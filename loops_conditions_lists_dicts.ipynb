{
  "nbformat": 4,
  "nbformat_minor": 0,
  "metadata": {
    "colab": {
      "provenance": [],
      "mount_file_id": "1jkIGE0hkBGz8g2KTqdWGYoPyPmdGfD8X",
      "authorship_tag": "ABX9TyMusnfUQnVFUoIWne9tuFnp",
      "include_colab_link": true
    },
    "kernelspec": {
      "name": "python3",
      "display_name": "Python 3"
    },
    "language_info": {
      "name": "python"
    }
  },
  "cells": [
    {
      "cell_type": "markdown",
      "metadata": {
        "id": "view-in-github",
        "colab_type": "text"
      },
      "source": [
        "<a href=\"https://colab.research.google.com/github/iseulNa/lab/blob/main/loops_conditions_lists_dicts.ipynb\" target=\"_parent\"><img src=\"https://colab.research.google.com/assets/colab-badge.svg\" alt=\"Open In Colab\"/></a>"
      ]
    },
    {
      "cell_type": "markdown",
      "source": [
        "반복문과 조건문"
      ],
      "metadata": {
        "id": "3uRmBZ5Mfo9w"
      }
    },
    {
      "cell_type": "code",
      "execution_count": null,
      "metadata": {
        "colab": {
          "base_uri": "https://localhost:8080/"
        },
        "id": "4nK6dpRbfkYX",
        "outputId": "2598ed75-33f7-4661-ccce-8844290d4ee0"
      },
      "outputs": [
        {
          "output_type": "stream",
          "name": "stdout",
          "text": [
            "0\n",
            "1\n",
            "2\n",
            "3\n",
            "4\n",
            "5\n",
            "6\n",
            "7\n",
            "8\n",
            "9\n"
          ]
        }
      ],
      "source": [
        "# 반복문\n",
        "\n",
        "for i in range(10):\n",
        "    print(i)"
      ]
    },
    {
      "cell_type": "code",
      "source": [
        "# 1 - 10까지 입력하는 경우\n",
        "\n",
        "for i in range(1, 11):\n",
        "    print(i)"
      ],
      "metadata": {
        "colab": {
          "base_uri": "https://localhost:8080/"
        },
        "id": "I3kVdBvDgnRi",
        "outputId": "9b2a7a21-3479-462f-eebf-a9deecfe8f5b"
      },
      "execution_count": null,
      "outputs": [
        {
          "output_type": "stream",
          "name": "stdout",
          "text": [
            "1\n",
            "2\n",
            "3\n",
            "4\n",
            "5\n",
            "6\n",
            "7\n",
            "8\n",
            "9\n",
            "10\n"
          ]
        }
      ]
    },
    {
      "cell_type": "code",
      "source": [
        "# 조건문\n",
        "\n",
        "if 5 > 3:\n",
        "    print(\"5가 3보다 크다\")"
      ],
      "metadata": {
        "colab": {
          "base_uri": "https://localhost:8080/"
        },
        "id": "X-BVF9JZfyAG",
        "outputId": "6b4ebe07-90a2-48b7-d5c5-2a88d30a86a5"
      },
      "execution_count": null,
      "outputs": [
        {
          "output_type": "stream",
          "name": "stdout",
          "text": [
            "5가 3보다 크다\n"
          ]
        }
      ]
    },
    {
      "cell_type": "code",
      "source": [
        "a = 10\n",
        "b = 15"
      ],
      "metadata": {
        "id": "OQKvQ--5f4_w"
      },
      "execution_count": null,
      "outputs": []
    },
    {
      "cell_type": "code",
      "source": [
        "if a > b:\n",
        "  print (f\"{a}가 {b}보다 크다\")\n",
        "else:\n",
        "  print (f\"{a}가 {b}보다 작다\")"
      ],
      "metadata": {
        "colab": {
          "base_uri": "https://localhost:8080/"
        },
        "id": "sd-btEEGf8CC",
        "outputId": "a44a9f68-9854-4fba-bef7-5a29a1b0ee12"
      },
      "execution_count": null,
      "outputs": [
        {
          "output_type": "stream",
          "name": "stdout",
          "text": [
            "10가 15보다 작다\n"
          ]
        }
      ]
    },
    {
      "cell_type": "code",
      "source": [
        "# list\n",
        "list_a = [5,2,6,1,8,7]\n",
        "\n",
        "for i in range(len(list_a)):\n",
        "    print(list_a[i])\n",
        "\n",
        "for i in list_a:\n",
        "    i += 5    #  i = i + 5\n",
        "    print(i)"
      ],
      "metadata": {
        "colab": {
          "base_uri": "https://localhost:8080/"
        },
        "id": "_QKOb8zpgmEh",
        "outputId": "88cf2038-60a5-464a-cfd6-c007905a6bae"
      },
      "execution_count": null,
      "outputs": [
        {
          "output_type": "stream",
          "name": "stdout",
          "text": [
            "5\n",
            "2\n",
            "6\n",
            "1\n",
            "8\n",
            "7\n",
            "10\n",
            "7\n",
            "11\n",
            "6\n",
            "13\n",
            "12\n"
          ]
        }
      ]
    },
    {
      "cell_type": "code",
      "source": [
        "# list 연산\n",
        "\n",
        "list_a = [1,2,3]\n",
        "list_b = [4,5,6]\n",
        "\n",
        "\n",
        "list_c = list_a + list_b\n",
        "print(list_c)\n",
        "\n",
        "list_d = list_a * 3\n",
        "print(list_d)"
      ],
      "metadata": {
        "colab": {
          "base_uri": "https://localhost:8080/"
        },
        "id": "TH_PnKp9hHsp",
        "outputId": "9ca0403b-ceda-4ca6-c277-9b8ef51ca8b2"
      },
      "execution_count": null,
      "outputs": [
        {
          "output_type": "stream",
          "name": "stdout",
          "text": [
            "[1, 2, 3, 4, 5, 6]\n",
            "[1, 2, 3, 1, 2, 3, 1, 2, 3]\n"
          ]
        }
      ]
    },
    {
      "cell_type": "code",
      "source": [
        "# 리스트 길이 확인\n",
        "A = len(list_a)\n",
        "print(A)\n",
        "\n",
        "# 리스트 내의 값 정렬\n",
        "list_d.sort()\n",
        "print(list_d)\n"
      ],
      "metadata": {
        "colab": {
          "base_uri": "https://localhost:8080/"
        },
        "id": "MPT1ZTzXijz1",
        "outputId": "a6c81702-f360-4932-bc11-552cda08ff4d"
      },
      "execution_count": null,
      "outputs": [
        {
          "output_type": "stream",
          "name": "stdout",
          "text": [
            "3\n",
            "[1, 1, 1, 2, 2, 2, 3, 3, 3]\n"
          ]
        }
      ]
    },
    {
      "cell_type": "code",
      "source": [
        "# dict\n",
        "# key에는 각 항목을 구별하는 고유한 값. 문자열, 숫자 등 불변(immutable) 값이어야 함\n",
        "# value에는 어떤 객체도 가능(숫자, 문자열, 리스트 등)\n",
        "\n",
        "dictionary = {\n",
        "    \"key\" : \"value\"\n",
        "}\n",
        "\n",
        "# 딕셔너리 생성\n",
        "person = {\n",
        "    'name': 'Alice',\n",
        "    'age': 25,\n",
        "    'city': 'New York'\n",
        "}"
      ],
      "metadata": {
        "id": "vBKq4grLjEbf"
      },
      "execution_count": null,
      "outputs": []
    },
    {
      "cell_type": "code",
      "source": [
        "# 값 접근\n",
        "print(person['name'])  # Alice\n",
        "print(person['age'])   # 25\n",
        "\n",
        "# 값 수정\n",
        "person['age'] = 26\n",
        "print(person['age'])   # 26"
      ],
      "metadata": {
        "colab": {
          "base_uri": "https://localhost:8080/"
        },
        "id": "z0-awB9zkyj0",
        "outputId": "70e09063-5739-4ced-f417-fbad51817fb2"
      },
      "execution_count": null,
      "outputs": [
        {
          "output_type": "stream",
          "name": "stdout",
          "text": [
            "Alice\n",
            "25\n",
            "26\n"
          ]
        }
      ]
    },
    {
      "cell_type": "code",
      "source": [
        "# 딕셔너리의 모든 키와 값 출력\n",
        "for key, value in person.items():\n",
        "    print(key, \":\", value)\n",
        "\n",
        "# 딕셔너리 길이\n",
        "print(len(person))  # 3 (현재 항목 수)"
      ],
      "metadata": {
        "colab": {
          "base_uri": "https://localhost:8080/"
        },
        "id": "l1NuQfPdkqVT",
        "outputId": "1f903844-4012-4ad9-d0ec-7413c850a566"
      },
      "execution_count": null,
      "outputs": [
        {
          "output_type": "stream",
          "name": "stdout",
          "text": [
            "name : Alice\n",
            "age : 26\n",
            "city : New York\n",
            "3\n"
          ]
        }
      ]
    },
    {
      "cell_type": "code",
      "source": [
        "for i in person:\n",
        "    print(i)"
      ],
      "metadata": {
        "colab": {
          "base_uri": "https://localhost:8080/"
        },
        "id": "2VSztv5mk1oA",
        "outputId": "bf1a0130-4296-457b-cf75-9159ab468797"
      },
      "execution_count": null,
      "outputs": [
        {
          "output_type": "stream",
          "name": "stdout",
          "text": [
            "name\n",
            "age\n",
            "city\n"
          ]
        }
      ]
    },
    {
      "cell_type": "code",
      "source": [
        "for i in person.values():\n",
        "    print(i)"
      ],
      "metadata": {
        "colab": {
          "base_uri": "https://localhost:8080/"
        },
        "id": "yhFwIyuCk5gj",
        "outputId": "e20edd4e-4569-4e7e-a5c6-d27cf679c838"
      },
      "execution_count": null,
      "outputs": [
        {
          "output_type": "stream",
          "name": "stdout",
          "text": [
            "Alice\n",
            "26\n",
            "New York\n"
          ]
        }
      ]
    },
    {
      "cell_type": "code",
      "source": [
        "name = \"iseul\"\n",
        "\n",
        "if name in person.values():\n",
        "    print(\"있음\")\n",
        "else:\n",
        "    print(\"없음\")"
      ],
      "metadata": {
        "colab": {
          "base_uri": "https://localhost:8080/"
        },
        "id": "89XibcCVk98z",
        "outputId": "8d16b012-9e65-4893-c72d-53fce997881e"
      },
      "execution_count": null,
      "outputs": [
        {
          "output_type": "stream",
          "name": "stdout",
          "text": [
            "없음\n"
          ]
        }
      ]
    },
    {
      "cell_type": "code",
      "source": [],
      "metadata": {
        "id": "8uQFkCNklNyz"
      },
      "execution_count": null,
      "outputs": []
    }
  ]
}