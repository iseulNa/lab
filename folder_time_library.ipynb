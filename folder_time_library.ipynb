{
  "nbformat": 4,
  "nbformat_minor": 0,
  "metadata": {
    "colab": {
      "provenance": [],
      "mount_file_id": "15rDTtXUMPat4nDLGIaExhqBTOeOJ8x6m",
      "authorship_tag": "ABX9TyOulSHf93kduP7gKCSfaCZP",
      "include_colab_link": true
    },
    "kernelspec": {
      "name": "python3",
      "display_name": "Python 3"
    },
    "language_info": {
      "name": "python"
    }
  },
  "cells": [
    {
      "cell_type": "markdown",
      "metadata": {
        "id": "view-in-github",
        "colab_type": "text"
      },
      "source": [
        "<a href=\"https://colab.research.google.com/github/iseulNa/lab/blob/main/folder_time_library.ipynb\" target=\"_parent\"><img src=\"https://colab.research.google.com/assets/colab-badge.svg\" alt=\"Open In Colab\"/></a>"
      ]
    },
    {
      "cell_type": "markdown",
      "source": [
        "일반적으로 많이 사용되는 기본 라이브러리"
      ],
      "metadata": {
        "id": "jTSbJOVMuIPT"
      }
    },
    {
      "cell_type": "code",
      "source": [
        "import os\n",
        "\n",
        "# 경로 설정\n",
        "folder_path = \"/content/drive/MyDrive/Colab Notebooks/2025_1/result\"\n",
        "\n",
        "# 폴더가 존재하지 않으면 생성\n",
        "os.makedirs(folder_path, exist_ok=True)"
      ],
      "metadata": {
        "id": "YRGgpWX4o2dM"
      },
      "execution_count": null,
      "outputs": []
    },
    {
      "cell_type": "code",
      "source": [
        "import datetime\n",
        "# 코드 실행 시간 출력\n",
        "date = datetime.datetime.fromtimestamp(time.time()).strftime('%Y-%m-%d %H:%M:%S')\n",
        "\n",
        "print(date)"
      ],
      "metadata": {
        "colab": {
          "base_uri": "https://localhost:8080/"
        },
        "id": "HCPLFSNRo_uN",
        "outputId": "603c283e-b811-441b-ca15-f673e452f044"
      },
      "execution_count": null,
      "outputs": [
        {
          "output_type": "stream",
          "name": "stdout",
          "text": [
            "2025-02-19 05:40:48\n"
          ]
        }
      ]
    },
    {
      "cell_type": "code",
      "source": [
        "import time\n",
        "\n",
        "# 코드 실행 전 시간 기록\n",
        "start_time = time.time()\n",
        "\n",
        "# 실행할 코드\n",
        "for i in range(1000000):\n",
        "    _ = i * 2\n",
        "\n",
        "# 코드 실행 후 시간 기록\n",
        "end_time = time.time()\n",
        "\n",
        "# 실행 시간 계산\n",
        "execution_time = end_time - start_time\n",
        "print(f\"실행 시간: {execution_time} 초\")\n",
        "\n",
        "print(f\"실행 시간: {execution_time:.2f} 초\")"
      ],
      "metadata": {
        "colab": {
          "base_uri": "https://localhost:8080/"
        },
        "id": "7np2SMNMqm9f",
        "outputId": "a4c4d419-764e-433f-ea79-65a391fa1951"
      },
      "execution_count": null,
      "outputs": [
        {
          "output_type": "stream",
          "name": "stdout",
          "text": [
            "실행 시간: 0.19375133514404297 초\n",
            "실행 시간: 0.19 초\n"
          ]
        }
      ]
    },
    {
      "cell_type": "code",
      "source": [
        "import math\n",
        "\n",
        "pi = math.pi\n",
        "\n",
        "print(pi)"
      ],
      "metadata": {
        "colab": {
          "base_uri": "https://localhost:8080/"
        },
        "id": "YwkPbIJLtSXl",
        "outputId": "f6566082-75d6-4312-a527-dbdcd00b50cb"
      },
      "execution_count": null,
      "outputs": [
        {
          "output_type": "stream",
          "name": "stdout",
          "text": [
            "3.141592653589793\n"
          ]
        }
      ]
    },
    {
      "cell_type": "code",
      "source": [
        "import random\n",
        "\n",
        "# 1부터 10 사이의 랜덤 정수\n",
        "print(random.randint(1, 10))\n",
        "\n",
        "# 리스트에서 랜덤 항목 선택\n",
        "items = ['apple', 'banana', 'cherry']\n",
        "print(random.choice(items))"
      ],
      "metadata": {
        "colab": {
          "base_uri": "https://localhost:8080/"
        },
        "id": "sB_rUGavuA7K",
        "outputId": "f7a15584-dfe7-49e5-9d89-20e51c5e417e"
      },
      "execution_count": null,
      "outputs": [
        {
          "output_type": "stream",
          "name": "stdout",
          "text": [
            "9\n",
            "banana\n"
          ]
        }
      ]
    }
  ]
}